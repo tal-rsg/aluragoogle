{
  "cells": [
    {
      "cell_type": "markdown",
      "metadata": {
        "id": "view-in-github",
        "colab_type": "text"
      },
      "source": [
        "<a href=\"https://colab.research.google.com/github/tal-rsg/aluragoogle/blob/main/%5BImers%C3%A3o_IA%5D_C%C3%B3digo_Aula_04.ipynb\" target=\"_parent\"><img src=\"https://colab.research.google.com/assets/colab-badge.svg\" alt=\"Open In Colab\"/></a>"
      ]
    },
    {
      "cell_type": "code",
      "execution_count": 1,
      "metadata": {
        "id": "nFQLKQ6hfXch"
      },
      "outputs": [],
      "source": [
        "#Instalando o SDK do Google\n",
        "!pip install -q -U google-generativeai"
      ]
    },
    {
      "cell_type": "code",
      "execution_count": 2,
      "metadata": {
        "id": "IthzwfnAfcsi"
      },
      "outputs": [],
      "source": [
        "#Configurações iniciais\n",
        "import google.generativeai as genai\n",
        "from google.colab import userdata\n",
        "\n",
        "apikey = userdata.get('api_key')\n",
        "\n",
        "GOOGLE_API_KEY=apikey\n",
        "genai.configure(api_key=GOOGLE_API_KEY)"
      ]
    },
    {
      "cell_type": "code",
      "execution_count": 3,
      "metadata": {
        "colab": {
          "base_uri": "https://localhost:8080/",
          "height": 139
        },
        "id": "iD3ihugymWBt",
        "outputId": "e4543ea9-6dd2-4a66-a20b-4140db366607"
      },
      "outputs": [
        {
          "output_type": "stream",
          "name": "stdout",
          "text": [
            "models/gemini-1.0-pro\n",
            "models/gemini-1.0-pro-001\n",
            "models/gemini-1.0-pro-latest\n",
            "models/gemini-1.0-pro-vision-latest\n",
            "models/gemini-1.5-pro-latest\n",
            "models/gemini-pro\n",
            "models/gemini-pro-vision\n"
          ]
        }
      ],
      "source": [
        "#Listando os modelos disponíveis\n",
        "for m in genai.list_models():\n",
        "  if 'generateContent' in m.supported_generation_methods:\n",
        "    print(m.name)"
      ]
    },
    {
      "cell_type": "code",
      "execution_count": 4,
      "metadata": {
        "id": "O1ochaeyDn_o"
      },
      "outputs": [],
      "source": [
        "generation_config = {\n",
        "  \"candidate_count\": 1,\n",
        "  \"temperature\": 0.5,\n",
        "}"
      ]
    },
    {
      "cell_type": "code",
      "execution_count": 5,
      "metadata": {
        "id": "jwBv7DofDofw"
      },
      "outputs": [],
      "source": [
        "safety_settings={\n",
        "    'HATE': 'BLOCK_NONE',\n",
        "    'HARASSMENT': 'BLOCK_NONE',\n",
        "    'SEXUAL' : 'BLOCK_NONE',\n",
        "    'DANGEROUS' : 'BLOCK_NONE'\n",
        "    }"
      ]
    },
    {
      "cell_type": "code",
      "execution_count": 6,
      "metadata": {
        "id": "NIiSs1R5mVJE"
      },
      "outputs": [],
      "source": [
        "model = genai.GenerativeModel(model_name='gemini-1.0-pro',\n",
        "                                  generation_config=generation_config,\n",
        "                                  safety_settings=safety_settings,)"
      ]
    },
    {
      "cell_type": "code",
      "execution_count": 7,
      "metadata": {
        "colab": {
          "base_uri": "https://localhost:8080/",
          "height": 35
        },
        "id": "vrRjhT2rlrU_",
        "outputId": "862a2bb6-81f9-49f1-efca-982873692c79"
      },
      "outputs": [
        {
          "output_type": "execute_result",
          "data": {
            "text/plain": [
              "'Google'"
            ],
            "application/vnd.google.colaboratory.intrinsic+json": {
              "type": "string"
            }
          },
          "metadata": {},
          "execution_count": 7
        }
      ],
      "source": [
        "response = model.generate_content(\"Que empresa criou o modelo de IA Gemini?\")\n",
        "response.text"
      ]
    },
    {
      "cell_type": "code",
      "execution_count": 10,
      "metadata": {
        "colab": {
          "base_uri": "https://localhost:8080/",
          "height": 1000
        },
        "id": "KpaQ6hm5f2_J",
        "outputId": "7ae75c7e-ab47-4a95-c651-80739fc70d0c"
      },
      "outputs": [
        {
          "output_type": "stream",
          "name": "stdout",
          "text": [
            "Esperando prompt: uma relacao de atribuição da PROMOTORIA DE JUSTIÇA CÍVEL DE SAQUAREMA \n",
            "Resposta: **Relação de Atribuições da Promotoria de Justiça Cível de Saquarema**\n",
            "\n",
            "**I. Atribuições Gerais**\n",
            "\n",
            "* Atuar na defesa dos interesses difusos, coletivos e individuais indisponíveis;\n",
            "* Promover a tutela dos direitos fundamentais e das liberdades públicas;\n",
            "* Fiscalizar o cumprimento das leis e das normas jurídicas;\n",
            "* Propor ações judiciais e extrajudiciais para garantir a efetividade dos direitos;\n",
            "* Representar o Ministério Público nas ações e procedimentos judiciais;\n",
            "* Emitir pareceres e manifestações jurídicas;\n",
            "* Realizar diligências, inspeções e vistorias;\n",
            "* Promover a conciliação e a mediação de conflitos;\n",
            "* Atuar junto aos órgãos públicos e privados para garantir o cumprimento das leis.\n",
            "\n",
            "**II. Atribuições Específicas**\n",
            "\n",
            "**Área Cível**\n",
            "\n",
            "* Ações de família (divórcio, guarda, alimentos);\n",
            "* Ações de responsabilidade civil (indenização por danos materiais e morais);\n",
            "* Ações de consumidor;\n",
            "* Ações de direito sucessório (inventário, partilha);\n",
            "* Ações de direito imobiliário (usucapião, despejo);\n",
            "* Ações de direito empresarial (cobrança, falência);\n",
            "* Ações de direito ambiental (poluição, degradação ambiental);\n",
            "* Ações de direito urbanístico (parcelamento irregular do solo, ocupação irregular de áreas públicas).\n",
            "\n",
            "**Área Fazendária**\n",
            "\n",
            "* Ações de cobrança de tributos;\n",
            "* Ações de anulação de atos administrativos tributários;\n",
            "* Ações de repetição de indébito tributário;\n",
            "* Ações de improbidade administrativa.\n",
            "\n",
            "**Área Eleitoral**\n",
            "\n",
            "* Ações de impugnação de candidaturas;\n",
            "* Ações de investigação judicial eleitoral;\n",
            "* Ações de cassação de diploma;\n",
            "* Ações de anulação de eleições.\n",
            "\n",
            "**III. Outras Atribuições**\n",
            "\n",
            "* Participação em conselhos e comissões;\n",
            "* Realização de palestras e eventos educativos;\n",
            "* Elaboração de estudos e pesquisas jurídicas;\n",
            "* Colaboração com outras instituições públicas e privadas. \n",
            "\n",
            "\n",
            "Esperando prompt: e da PROMOTORIA DE JUSTIÇA DE PARATY\n",
            "Resposta: **Relação de Atribuições da Promotoria de Justiça de Paraty**\n",
            "\n",
            "**I. Atribuições Gerais**\n",
            "\n",
            "* Atuar na defesa dos interesses difusos, coletivos e individuais indisponíveis;\n",
            "* Promover a tutela dos direitos fundamentais e das liberdades públicas;\n",
            "* Fiscalizar o cumprimento das leis e das normas jurídicas;\n",
            "* Propor ações judiciais e extrajudiciais para garantir a efetividade dos direitos;\n",
            "* Representar o Ministério Público nas ações e procedimentos judiciais;\n",
            "* Emitir pareceres e manifestações jurídicas;\n",
            "* Realizar diligências, inspeções e vistorias;\n",
            "* Promover a conciliação e a mediação de conflitos;\n",
            "* Atuar junto aos órgãos públicos e privados para garantir o cumprimento das leis.\n",
            "\n",
            "**II. Atribuições Específicas**\n",
            "\n",
            "**Área Cível**\n",
            "\n",
            "* Ações de família (divórcio, guarda, alimentos);\n",
            "* Ações de responsabilidade civil (indenização por danos materiais e morais);\n",
            "* Ações de consumidor;\n",
            "* Ações de direito sucessório (inventário, partilha);\n",
            "* Ações de direito imobiliário (usucapião, despejo);\n",
            "* Ações de direito empresarial (cobrança, falência);\n",
            "* Ações de direito ambiental (poluição, degradação ambiental);\n",
            "* Ações de direito urbanístico (parcelamento irregular do solo, ocupação irregular de áreas públicas).\n",
            "\n",
            "**Área Fazendária**\n",
            "\n",
            "* Ações de cobrança de tributos;\n",
            "* Ações de anulação de atos administrativos tributários;\n",
            "* Ações de repetição de indébito tributário;\n",
            "* Ações de improbidade administrativa.\n",
            "\n",
            "**Área Eleitoral**\n",
            "\n",
            "* Ações de impugnação de candidaturas;\n",
            "* Ações de investigação judicial eleitoral;\n",
            "* Ações de cassação de diploma;\n",
            "* Ações de anulação de eleições.\n",
            "\n",
            "**Área Criminal**\n",
            "\n",
            "* Ações penais públicas incondicionadas (crimes de ação penal pública);\n",
            "* Ações penais públicas condicionadas à representação (crimes de ação penal pública condicionada);\n",
            "* Ações penais privadas subsidiárias da pública (crimes de ação penal privada subsidiária da pública);\n",
            "* Inquéritos policiais;\n",
            "* Procedimentos investigatórios criminais.\n",
            "\n",
            "**III. Outras Atribuições**\n",
            "\n",
            "* Participação em conselhos e comissões;\n",
            "* Realização de palestras e eventos educativos;\n",
            "* Elaboração de estudos e pesquisas jurídicas;\n",
            "* Colaboração com outras instituições públicas e privadas.\n",
            "\n",
            "**Observação:**\n",
            "\n",
            "A Promotoria de Justiça de Paraty também atua na defesa dos interesses do patrimônio histórico e cultural do município, em razão da importância do Centro Histórico de Paraty, tombado pelo Instituto do Patrimônio Histórico e Artístico Nacional (IPHAN). \n",
            "\n",
            "\n"
          ]
        },
        {
          "output_type": "error",
          "ename": "KeyboardInterrupt",
          "evalue": "Interrupted by user",
          "traceback": [
            "\u001b[0;31m---------------------------------------------------------------------------\u001b[0m",
            "\u001b[0;31mKeyboardInterrupt\u001b[0m                         Traceback (most recent call last)",
            "\u001b[0;32m<ipython-input-10-481ebd21a3b4>\u001b[0m in \u001b[0;36m<cell line: 5>\u001b[0;34m()\u001b[0m\n\u001b[1;32m      6\u001b[0m   \u001b[0mresponse\u001b[0m \u001b[0;34m=\u001b[0m \u001b[0mchat\u001b[0m\u001b[0;34m.\u001b[0m\u001b[0msend_message\u001b[0m\u001b[0;34m(\u001b[0m\u001b[0mprompt\u001b[0m\u001b[0;34m)\u001b[0m\u001b[0;34m\u001b[0m\u001b[0;34m\u001b[0m\u001b[0m\n\u001b[1;32m      7\u001b[0m   \u001b[0mprint\u001b[0m\u001b[0;34m(\u001b[0m\u001b[0;34m\"Resposta:\"\u001b[0m\u001b[0;34m,\u001b[0m \u001b[0mresponse\u001b[0m\u001b[0;34m.\u001b[0m\u001b[0mtext\u001b[0m\u001b[0;34m,\u001b[0m \u001b[0;34m'\\n\\n'\u001b[0m\u001b[0;34m)\u001b[0m\u001b[0;34m\u001b[0m\u001b[0;34m\u001b[0m\u001b[0m\n\u001b[0;32m----> 8\u001b[0;31m   \u001b[0mprompt\u001b[0m \u001b[0;34m=\u001b[0m \u001b[0minput\u001b[0m\u001b[0;34m(\u001b[0m\u001b[0;34m'Esperando prompt: '\u001b[0m\u001b[0;34m)\u001b[0m\u001b[0;34m\u001b[0m\u001b[0;34m\u001b[0m\u001b[0m\n\u001b[0m",
            "\u001b[0;32m/usr/local/lib/python3.10/dist-packages/ipykernel/kernelbase.py\u001b[0m in \u001b[0;36mraw_input\u001b[0;34m(self, prompt)\u001b[0m\n\u001b[1;32m    849\u001b[0m                 \u001b[0;34m\"raw_input was called, but this frontend does not support input requests.\"\u001b[0m\u001b[0;34m\u001b[0m\u001b[0;34m\u001b[0m\u001b[0m\n\u001b[1;32m    850\u001b[0m             )\n\u001b[0;32m--> 851\u001b[0;31m         return self._input_request(str(prompt),\n\u001b[0m\u001b[1;32m    852\u001b[0m             \u001b[0mself\u001b[0m\u001b[0;34m.\u001b[0m\u001b[0m_parent_ident\u001b[0m\u001b[0;34m,\u001b[0m\u001b[0;34m\u001b[0m\u001b[0;34m\u001b[0m\u001b[0m\n\u001b[1;32m    853\u001b[0m             \u001b[0mself\u001b[0m\u001b[0;34m.\u001b[0m\u001b[0m_parent_header\u001b[0m\u001b[0;34m,\u001b[0m\u001b[0;34m\u001b[0m\u001b[0;34m\u001b[0m\u001b[0m\n",
            "\u001b[0;32m/usr/local/lib/python3.10/dist-packages/ipykernel/kernelbase.py\u001b[0m in \u001b[0;36m_input_request\u001b[0;34m(self, prompt, ident, parent, password)\u001b[0m\n\u001b[1;32m    893\u001b[0m             \u001b[0;32mexcept\u001b[0m \u001b[0mKeyboardInterrupt\u001b[0m\u001b[0;34m:\u001b[0m\u001b[0;34m\u001b[0m\u001b[0;34m\u001b[0m\u001b[0m\n\u001b[1;32m    894\u001b[0m                 \u001b[0;31m# re-raise KeyboardInterrupt, to truncate traceback\u001b[0m\u001b[0;34m\u001b[0m\u001b[0;34m\u001b[0m\u001b[0m\n\u001b[0;32m--> 895\u001b[0;31m                 \u001b[0;32mraise\u001b[0m \u001b[0mKeyboardInterrupt\u001b[0m\u001b[0;34m(\u001b[0m\u001b[0;34m\"Interrupted by user\"\u001b[0m\u001b[0;34m)\u001b[0m \u001b[0;32mfrom\u001b[0m \u001b[0;32mNone\u001b[0m\u001b[0;34m\u001b[0m\u001b[0;34m\u001b[0m\u001b[0m\n\u001b[0m\u001b[1;32m    896\u001b[0m             \u001b[0;32mexcept\u001b[0m \u001b[0mException\u001b[0m \u001b[0;32mas\u001b[0m \u001b[0me\u001b[0m\u001b[0;34m:\u001b[0m\u001b[0;34m\u001b[0m\u001b[0;34m\u001b[0m\u001b[0m\n\u001b[1;32m    897\u001b[0m                 \u001b[0mself\u001b[0m\u001b[0;34m.\u001b[0m\u001b[0mlog\u001b[0m\u001b[0;34m.\u001b[0m\u001b[0mwarning\u001b[0m\u001b[0;34m(\u001b[0m\u001b[0;34m\"Invalid Message:\"\u001b[0m\u001b[0;34m,\u001b[0m \u001b[0mexc_info\u001b[0m\u001b[0;34m=\u001b[0m\u001b[0;32mTrue\u001b[0m\u001b[0;34m)\u001b[0m\u001b[0;34m\u001b[0m\u001b[0;34m\u001b[0m\u001b[0m\n",
            "\u001b[0;31mKeyboardInterrupt\u001b[0m: Interrupted by user"
          ]
        }
      ],
      "source": [
        "chat = model.start_chat(history=[])\n",
        "\n",
        "prompt = input('Esperando prompt: ')\n",
        "\n",
        "while prompt != \"fim\":\n",
        "  response = chat.send_message(prompt)\n",
        "  print(\"Resposta:\", response.text, '\\n\\n')\n",
        "  prompt = input('Esperando prompt: ')"
      ]
    },
    {
      "cell_type": "code",
      "execution_count": null,
      "metadata": {
        "id": "XLAniTTDhHNW"
      },
      "outputs": [],
      "source": [
        "chat"
      ]
    },
    {
      "cell_type": "code",
      "execution_count": null,
      "metadata": {
        "id": "sd8mvW9KghTf"
      },
      "outputs": [],
      "source": [
        "chat.history"
      ]
    },
    {
      "cell_type": "code",
      "execution_count": 9,
      "metadata": {
        "id": "dAcbPBocgzeX",
        "outputId": "b5c9051f-0a3b-4a07-de76-6b4acff5d626",
        "colab": {
          "base_uri": "https://localhost:8080/",
          "height": 346
        }
      },
      "outputs": [
        {
          "output_type": "display_data",
          "data": {
            "text/plain": [
              "<IPython.core.display.Markdown object>"
            ],
            "text/markdown": "> **user**: criar um texto para minha esposa em forma de rima e com muito carinho de forma sarcastica"
          },
          "metadata": {}
        },
        {
          "output_type": "stream",
          "name": "stdout",
          "text": [
            "-------------------------------------------\n"
          ]
        },
        {
          "output_type": "display_data",
          "data": {
            "text/plain": [
              "<IPython.core.display.Markdown object>"
            ],
            "text/markdown": "> **model**: **Minha Querida Esposa**\n> \n> Oh, minha querida esposa, meu amor,\n> Você é a luz que ilumina o meu mundo, é verdade.\n> Mas às vezes, seu jeito me deixa um pouco louco,\n> Então, aqui vai uma rima sarcástica, só para você.\n> \n> Você é a melhor cozinheira, isso eu não nego,\n> Mas sua comida queimada, às vezes, me faz chorar.\n> E quando você dirige, é um verdadeiro show,\n> Você transforma a estrada em um carrossel giratório.\n> \n> Seu senso de moda é... único, devo dizer,\n> Você mistura estampas e cores como ninguém.\n> Mas quando você sai assim, eu tenho que me esconder,\n> Pois as pessoas riem e apontam, sem dó nem piedade.\n> \n> Você é sempre tão organizada, é verdade,\n> Mas sua mesa de cabeceira parece um campo de batalha.\n> Roupas, livros e maquiagem espalhados por toda parte,\n> É um caos que me deixa com vontade de gritar.\n> \n> Mas, apesar de todas as suas peculiaridades,\n> Eu te amo, minha querida, com todas as minhas forças.\n> Então, aqui está um beijo sarcástico, só para você,\n> Para mostrar que, apesar de tudo, você é minha rainha."
          },
          "metadata": {}
        },
        {
          "output_type": "stream",
          "name": "stdout",
          "text": [
            "-------------------------------------------\n"
          ]
        }
      ],
      "source": [
        "#Melhorando a visualização\n",
        "#Código disponível em https://ai.google.dev/tutorials/python_quickstart#import_packages\n",
        "import textwrap\n",
        "from IPython.display import display\n",
        "from IPython.display import Markdown\n",
        "\n",
        "def to_markdown(text):\n",
        "  text = text.replace('•', '  *')\n",
        "  return Markdown(textwrap.indent(text, '> ', predicate=lambda _: True))\n",
        "\n",
        "#Imprimindo o histórico\n",
        "for message in chat.history:\n",
        "  display(to_markdown(f'**{message.role}**: {message.parts[0].text}'))\n",
        "  print('-------------------------------------------')"
      ]
    }
  ],
  "metadata": {
    "colab": {
      "provenance": [],
      "include_colab_link": true
    },
    "kernelspec": {
      "display_name": "Python 3",
      "name": "python3"
    },
    "language_info": {
      "name": "python"
    }
  },
  "nbformat": 4,
  "nbformat_minor": 0
}